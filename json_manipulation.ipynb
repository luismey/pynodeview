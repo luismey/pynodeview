{
 "cells": [
  {
   "cell_type": "code",
   "execution_count": 146,
   "metadata": {
    "collapsed": true
   },
   "outputs": [],
   "source": [
    "import json\n",
    "from functools import reduce\n",
    "import itertools\n",
    "import re"
   ]
  },
  {
   "cell_type": "code",
   "execution_count": 6,
   "metadata": {
    "collapsed": true
   },
   "outputs": [],
   "source": [
    "def get_json_data():\n",
    "    with open('templates/flare.json') as json_data:\n",
    "        d = json.load(json_data)\n",
    "    return d"
   ]
  },
  {
   "cell_type": "code",
   "execution_count": 26,
   "metadata": {
    "collapsed": false
   },
   "outputs": [],
   "source": [
    "data = get_json_data()"
   ]
  },
  {
   "cell_type": "code",
   "execution_count": 69,
   "metadata": {
    "collapsed": true
   },
   "outputs": [],
   "source": []
  },
  {
   "cell_type": "code",
   "execution_count": 266,
   "metadata": {
    "collapsed": true
   },
   "outputs": [],
   "source": [
    "# Possible function to apply\n",
    "def revenue_equation(data):\n",
    "    return float(data['price']) * float(data['quantity'])"
   ]
  },
  {
   "cell_type": "code",
   "execution_count": 267,
   "metadata": {
    "collapsed": true
   },
   "outputs": [],
   "source": [
    "# Dictionary to store functions\n",
    "dict_functions = {}\n",
    "\n",
    "dict_functions['revenue_equation'] = revenue_equation"
   ]
  },
  {
   "cell_type": "code",
   "execution_count": 268,
   "metadata": {
    "collapsed": true
   },
   "outputs": [],
   "source": [
    "def get_value(node_name):\n",
    "    return re.search(r':\\d*', node_name).group()[1:]\n",
    "\n",
    "def get_name_only(node_name):\n",
    "    return re.search(r'\\w*:', node_name).group()[:-1]\n",
    "\n",
    "def get_children_dict(data, children_list):\n",
    "    children_dict = {}\n",
    "    for child in reduce(lambda d, k: d[k], children_list, data):\n",
    "        children_dict[get_name_only(child['name'])] = get_value(child['name'])\n",
    "    return children_dict"
   ]
  },
  {
   "cell_type": "code",
   "execution_count": 274,
   "metadata": {
    "collapsed": false
   },
   "outputs": [],
   "source": [
    "def rename(data, new_name, depth=0, node=[0]):\n",
    "    \n",
    "    if node:\n",
    "        list1 = ['children'] * (len(node))\n",
    "        list2 = node\n",
    "    else:\n",
    "        list1 = ['children'] * (depth + 1)\n",
    "        list2 = range(depth + 1)\n",
    "    \n",
    "    # name value is a number of the function's name used to get its value\n",
    "    name_value = re.search(r':\\D*', new_name).group()[1:]\n",
    "\n",
    "        \n",
    "    dict_path = [x for x in itertools.chain.from_iterable(itertools.izip_longest(list1,list2)) if x!=None]\n",
    "    \n",
    "    print name_value\n",
    "    if name_value:\n",
    "        children_dict =  get_children_dict(data, dict_path+['children'])\n",
    "        calculated_value = dict_functions[name_value](children_dict)\n",
    "        new_name =  get_name_only(new_name) + ':' + str(calculated_value)\n",
    "        print new_name\n",
    "    \n",
    "    reduce(lambda d, k: d[k], dict_path, data)['name'] = new_name\n",
    "    return data\n",
    "\n",
    "def view_name(data, depth=0):\n",
    "    print reduce(lambda d, k: d[k], ['children', 0]* (depth+1), data)['name']"
   ]
  },
  {
   "cell_type": "code",
   "execution_count": 275,
   "metadata": {
    "collapsed": false
   },
   "outputs": [
    {
     "name": "stdout",
     "output_type": "stream",
     "text": [
      "revenue_equation\n",
      "revenue:50.0\n",
      "\n",
      "\n"
     ]
    }
   ],
   "source": [
    "data = rename(data, 'revenue:revenue_equation')\n",
    "data = rename(data, 'price:10', node = [0,0])\n",
    "data = rename(data, 'quantity:5', node = [0,1])"
   ]
  },
  {
   "cell_type": "code",
   "execution_count": null,
   "metadata": {
    "collapsed": false
   },
   "outputs": [],
   "source": []
  },
  {
   "cell_type": "markdown",
   "metadata": {},
   "source": [
    "# Store JSON"
   ]
  },
  {
   "cell_type": "code",
   "execution_count": 276,
   "metadata": {
    "collapsed": true
   },
   "outputs": [],
   "source": [
    "with open('templates/myjson.json', 'w') as fp:\n",
    "    json.dump(data, fp)"
   ]
  },
  {
   "cell_type": "code",
   "execution_count": null,
   "metadata": {
    "collapsed": true
   },
   "outputs": [],
   "source": []
  }
 ],
 "metadata": {
  "anaconda-cloud": {},
  "kernelspec": {
   "display_name": "Python [default]",
   "language": "python",
   "name": "python2"
  },
  "language_info": {
   "codemirror_mode": {
    "name": "ipython",
    "version": 2
   },
   "file_extension": ".py",
   "mimetype": "text/x-python",
   "name": "python",
   "nbconvert_exporter": "python",
   "pygments_lexer": "ipython2",
   "version": "2.7.12"
  }
 },
 "nbformat": 4,
 "nbformat_minor": 1
}
