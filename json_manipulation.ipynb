{
 "cells": [
  {
   "cell_type": "code",
   "execution_count": 138,
   "metadata": {
    "collapsed": true
   },
   "outputs": [],
   "source": [
    "import json\n",
    "from functools import reduce\n",
    "import itertools"
   ]
  },
  {
   "cell_type": "code",
   "execution_count": 6,
   "metadata": {
    "collapsed": true
   },
   "outputs": [],
   "source": [
    "def get_json_data():\n",
    "    with open('templates/flare.json') as json_data:\n",
    "        d = json.load(json_data)\n",
    "    return d"
   ]
  },
  {
   "cell_type": "code",
   "execution_count": 26,
   "metadata": {
    "collapsed": false
   },
   "outputs": [],
   "source": [
    "data = get_json_data()"
   ]
  },
  {
   "cell_type": "code",
   "execution_count": 69,
   "metadata": {
    "collapsed": true
   },
   "outputs": [],
   "source": []
  },
  {
   "cell_type": "code",
   "execution_count": 124,
   "metadata": {
    "collapsed": false
   },
   "outputs": [],
   "source": [
    "def rename(data, new_name, depth=0, node=[0]):\n",
    "    \n",
    "    if node:\n",
    "        list1 = ['children'] * (len(node))\n",
    "        list2 = node\n",
    "    else:\n",
    "        list1 = ['children'] * (depth + 1)\n",
    "        list2 = range(depth + 1)\n",
    "        \n",
    "        \n",
    "    dict_path = [x for x in itertools.chain.from_iterable(itertools.izip_longest(list1,list2)) if x!=None]\n",
    "    reduce(lambda d, k: d[k], dict_path, data)['name'] = new_name\n",
    "    return data\n",
    "\n",
    "def view_name(data, depth=0):\n",
    "    print reduce(lambda d, k: d[k], ['children', 0]* (depth+1), data)['name']"
   ]
  },
  {
   "cell_type": "code",
   "execution_count": 135,
   "metadata": {
    "collapsed": false
   },
   "outputs": [],
   "source": [
    "data = rename(data, u'revenue:revenue_equation')\n",
    "data = rename(data, u'price:10', node = [0,0])\n",
    "data = rename(data, u'quantity:5', node = [0,1])"
   ]
  },
  {
   "cell_type": "code",
   "execution_count": 136,
   "metadata": {
    "collapsed": false
   },
   "outputs": [
    {
     "data": {
      "text/plain": [
       "u'revenue:revenue_equation'"
      ]
     },
     "execution_count": 136,
     "metadata": {},
     "output_type": "execute_result"
    }
   ],
   "source": [
    "data['children'][0]['name']"
   ]
  },
  {
   "cell_type": "code",
   "execution_count": 137,
   "metadata": {
    "collapsed": false
   },
   "outputs": [
    {
     "data": {
      "text/plain": [
       "{u'children': [{u'children': [{u'name': u'AgglomerativeCluster',\n",
       "     u'size': 3938},\n",
       "    {u'name': u'CommunityStructure', u'size': 3812},\n",
       "    {u'name': u'HierarchicalCluster', u'size': 6714},\n",
       "    {u'name': u'MergeEdge', u'size': 743}],\n",
       "   u'name': u'price:10'},\n",
       "  {u'children': [{u'name': u'BetweennessCentrality', u'size': 3534},\n",
       "    {u'name': u'LinkDistance', u'size': 5731},\n",
       "    {u'name': u'MaxFlowMinCut', u'size': 7840},\n",
       "    {u'name': u'ShortestPaths', u'size': 5914},\n",
       "    {u'name': u'SpanningTree', u'size': 3416}],\n",
       "   u'name': u'quantity:5'},\n",
       "  {u'children': [{u'name': u'AspectRatioBanker', u'size': 7074}],\n",
       "   u'name': u'optimization'}],\n",
       " u'name': u'revenue:revenue_equation'}"
      ]
     },
     "execution_count": 137,
     "metadata": {},
     "output_type": "execute_result"
    }
   ],
   "source": [
    "data['children'][0]"
   ]
  },
  {
   "cell_type": "code",
   "execution_count": 106,
   "metadata": {
    "collapsed": false
   },
   "outputs": [
    {
     "name": "stdout",
     "output_type": "stream",
     "text": [
      "price\n"
     ]
    }
   ],
   "source": [
    "view_name(data, 1)"
   ]
  },
  {
   "cell_type": "code",
   "execution_count": 144,
   "metadata": {
    "collapsed": false
   },
   "outputs": [],
   "source": [
    "#del data['children'][0]['children'][2]"
   ]
  },
  {
   "cell_type": "markdown",
   "metadata": {},
   "source": [
    "# Store JSON"
   ]
  },
  {
   "cell_type": "code",
   "execution_count": 145,
   "metadata": {
    "collapsed": true
   },
   "outputs": [],
   "source": [
    "with open('templates/myjson.json', 'w') as fp:\n",
    "    json.dump(data, fp)"
   ]
  },
  {
   "cell_type": "code",
   "execution_count": null,
   "metadata": {
    "collapsed": true
   },
   "outputs": [],
   "source": []
  }
 ],
 "metadata": {
  "anaconda-cloud": {},
  "kernelspec": {
   "display_name": "Python [default]",
   "language": "python",
   "name": "python2"
  },
  "language_info": {
   "codemirror_mode": {
    "name": "ipython",
    "version": 2
   },
   "file_extension": ".py",
   "mimetype": "text/x-python",
   "name": "python",
   "nbconvert_exporter": "python",
   "pygments_lexer": "ipython2",
   "version": "2.7.12"
  }
 },
 "nbformat": 4,
 "nbformat_minor": 1
}
